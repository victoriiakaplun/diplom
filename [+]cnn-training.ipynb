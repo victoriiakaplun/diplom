{
 "cells": [
  {
   "cell_type": "code",
   "execution_count": 1,
   "metadata": {},
   "outputs": [
    {
     "name": "stdout",
     "output_type": "stream",
     "text": [
      "Looking in links: https://download.pytorch.org/whl/torch_stable.html\n",
      "Collecting torch==1.7.0+cu110\n",
      "  Using cached https://download.pytorch.org/whl/cu110/torch-1.7.0%2Bcu110-cp38-cp38-win_amd64.whl (2046.8 MB)\n",
      "Collecting torchvision==0.8.1+cu110\n",
      "  Using cached https://download.pytorch.org/whl/cu110/torchvision-0.8.1%2Bcu110-cp38-cp38-win_amd64.whl (1.6 MB)\n",
      "Collecting torchaudio===0.7.0\n",
      "  Using cached https://download.pytorch.org/whl/torchaudio-0.7.0-cp38-none-win_amd64.whl (103 kB)\n",
      "Requirement already satisfied: typing-extensions in c:\\users\\calypso\\anaconda3\\lib\\site-packages (from torch==1.7.0+cu110) (3.7.4.3)\n",
      "Collecting dataclasses\n",
      "  Using cached dataclasses-0.6-py3-none-any.whl (14 kB)\n",
      "Requirement already satisfied: future in c:\\users\\calypso\\anaconda3\\lib\\site-packages (from torch==1.7.0+cu110) (0.18.2)\n",
      "Requirement already satisfied: numpy in c:\\users\\calypso\\anaconda3\\lib\\site-packages (from torch==1.7.0+cu110) (1.19.2)\n",
      "Requirement already satisfied: pillow>=4.1.1 in c:\\users\\calypso\\anaconda3\\lib\\site-packages (from torchvision==0.8.1+cu110) (8.0.1)\n",
      "Installing collected packages: dataclasses, torch, torchvision, torchaudio\n",
      "  Attempting uninstall: torch\n",
      "    Found existing installation: torch 1.8.1\n",
      "    Uninstalling torch-1.8.1:\n",
      "      Successfully uninstalled torch-1.8.1\n",
      "  Attempting uninstall: torchvision\n",
      "    Found existing installation: torchvision 0.9.1\n",
      "    Uninstalling torchvision-0.9.1:\n",
      "      Successfully uninstalled torchvision-0.9.1\n",
      "Successfully installed dataclasses-0.6 torch-1.7.0+cu110 torchaudio-0.7.0 torchvision-0.8.1+cu110\n"
     ]
    }
   ],
   "source": [
    "!pip install torch==1.7.0+cu110 torchvision==0.8.1+cu110 torchaudio===0.7.0 -f https://download.pytorch.org/whl/torch_stable.html"
   ]
  },
  {
   "cell_type": "markdown",
   "metadata": {},
   "source": [
    "### Построение нейросети, распознающей рукописные цифры"
   ]
  },
  {
   "cell_type": "markdown",
   "metadata": {},
   "source": [
    "### Построение нейросети"
   ]
  },
  {
   "cell_type": "code",
   "execution_count": 1,
   "metadata": {},
   "outputs": [],
   "source": [
    "import numpy as np\n",
    "import torch\n",
    "import seaborn as sns\n",
    "from matplotlib import pyplot as plt\n",
    "\n",
    "# import standard PyTorch modules\n",
    "import torch\n",
    "import torch.nn as nn\n",
    "import torch.nn.functional as F\n",
    "import torch.optim as optim\n",
    "\n",
    "# import torchvision module to handle image manipulation\n",
    "import torchvision\n",
    "import torchvision.transforms as transforms\n",
    "from torch.utils.data import DataLoader\n",
    "\n",
    "import pandas as pd"
   ]
  },
  {
   "cell_type": "code",
   "execution_count": 2,
   "metadata": {},
   "outputs": [],
   "source": [
    "torch.manual_seed(1)\n",
    "np.random.seed(1)"
   ]
  },
  {
   "cell_type": "code",
   "execution_count": 3,
   "metadata": {},
   "outputs": [],
   "source": [
    "train = torch.load('./data/train.pt')\n",
    "test = torch.load('./data/test.pt')\n",
    "valid = torch.load('./data/valid.pt')"
   ]
  },
  {
   "cell_type": "code",
   "execution_count": 4,
   "metadata": {},
   "outputs": [],
   "source": [
    "batch_size = 1000\n",
    "train_loader = DataLoader(dataset=train, batch_size=1000, shuffle=True)\n",
    "test_loader = DataLoader(dataset=test, batch_size=1000, shuffle=False)\n",
    "valid_loader = DataLoader(dataset=valid, batch_size=1000, shuffle=False)"
   ]
  },
  {
   "cell_type": "code",
   "execution_count": 5,
   "metadata": {},
   "outputs": [
    {
     "data": {
      "text/plain": [
       "'cuda'"
      ]
     },
     "execution_count": 5,
     "metadata": {},
     "output_type": "execute_result"
    }
   ],
   "source": [
    "device = \"cuda\" if torch.cuda.is_available() else \"cpu\"\n",
    "device"
   ]
  },
  {
   "cell_type": "code",
   "execution_count": 6,
   "metadata": {},
   "outputs": [],
   "source": [
    "class ConvNet(nn.Module):\n",
    "    def __init__(self):\n",
    "\n",
    "        super(ConvNet, self).__init__()\n",
    "        self.layer1 = nn.Sequential(\n",
    "             nn.Conv2d(1, 32, kernel_size=5, stride=1, padding=2),\n",
    "             nn.ReLU(),\n",
    "             nn.MaxPool2d(kernel_size=2, stride=2))\n",
    "        self.layer2 = nn.Sequential(\n",
    "             nn.Conv2d(32, 64, kernel_size=5, stride=1, padding=2),\n",
    "             nn.ReLU(),\n",
    "             nn.MaxPool2d(kernel_size=2, stride=2))\n",
    "        self.drop_out1 = nn.Dropout(0.4)\n",
    "        self.bn1 = nn.BatchNorm1d(7 * 7 * 64)\n",
    "        self.fc1 = nn.Linear(7 * 7 * 64, 1000)\n",
    "        self.drop_out2 = nn.Dropout(0.4)\n",
    "        self.bn2 = nn.BatchNorm1d(1000)\n",
    "        self.fc2 = nn.Linear(1000, 500)\n",
    "        self.drop_out3 = nn.Dropout(0.4)\n",
    "        self.bn3 = nn.BatchNorm1d(500)\n",
    "        self.fc3 = nn.Linear(500, 10)\n",
    "      \n",
    "    def forward(self, x):\n",
    "        out = self.layer1(x)\n",
    "        out = self.layer2(out)\n",
    "        out = out.reshape(out.size(0), -1)\n",
    "        out = self.drop_out1(out)\n",
    "        out = self.bn1(out)\n",
    "        out = self.fc1(out)\n",
    "        out = self.drop_out2(out)\n",
    "        out = self.bn2(out)\n",
    "        out = self.fc2(out)\n",
    "        out = self.drop_out3(out)\n",
    "        out = self.bn3(out)\n",
    "        out = self.fc3(out)\n",
    "        return out"
   ]
  },
  {
   "cell_type": "code",
   "execution_count": 7,
   "metadata": {},
   "outputs": [],
   "source": [
    "num_epochs = 1000\n",
    "num_classes = 10\n",
    "learning_rate = 1e-3"
   ]
  },
  {
   "cell_type": "code",
   "execution_count": 8,
   "metadata": {},
   "outputs": [],
   "source": [
    "from  torch.optim.lr_scheduler import StepLR"
   ]
  },
  {
   "cell_type": "code",
   "execution_count": 9,
   "metadata": {},
   "outputs": [],
   "source": [
    "model = ConvNet()\n",
    "model = model.to(device)\n",
    "criterion = nn.CrossEntropyLoss()\n",
    "optimizer = torch.optim.Adam(model.parameters(), lr=learning_rate)\n",
    "scheduler = StepLR(optimizer, step_size=10, gamma=0.7)"
   ]
  },
  {
   "cell_type": "code",
   "execution_count": 10,
   "metadata": {},
   "outputs": [
    {
     "name": "stdout",
     "output_type": "stream",
     "text": [
      "Epoch [1/1000], Train Loss(mean): 0.2334, Test Loss: 0.0908\n",
      "Epoch [2/1000], Train Loss(mean): 0.0813, Test Loss: 0.0776\n",
      "Epoch [3/1000], Train Loss(mean): 0.0746, Test Loss: 0.0765\n",
      "Epoch [4/1000], Train Loss(mean): 0.0715, Test Loss: 0.0744\n",
      "Epoch [5/1000], Train Loss(mean): 0.0718, Test Loss: 0.0739\n",
      "Epoch [6/1000], Train Loss(mean): 0.0723, Test Loss: 0.0778\n",
      "Epoch [7/1000], Train Loss(mean): 0.0708, Test Loss: 0.0743\n",
      "Epoch [8/1000], Train Loss(mean): 0.0726, Test Loss: 0.0770\n",
      "Epoch [9/1000], Train Loss(mean): 0.0729, Test Loss: 0.0758\n",
      "Epoch [10/1000], Train Loss(mean): 0.0723, Test Loss: 0.0745\n",
      "Epoch [11/1000], Train Loss(mean): 0.0716, Test Loss: 0.0775\n",
      "Epoch [12/1000], Train Loss(mean): 0.0720, Test Loss: 0.0748\n",
      "Epoch [13/1000], Train Loss(mean): 0.0714, Test Loss: 0.0783\n",
      "Epoch [14/1000], Train Loss(mean): 0.0719, Test Loss: 0.0746\n",
      "Epoch [15/1000], Train Loss(mean): 0.0721, Test Loss: 0.0750\n",
      "Epoch [16/1000], Train Loss(mean): 0.0723, Test Loss: 0.0745\n",
      "Epoch [17/1000], Train Loss(mean): 0.0722, Test Loss: 0.0760\n",
      "Epoch [18/1000], Train Loss(mean): 0.0709, Test Loss: 0.0775\n",
      "Epoch [19/1000], Train Loss(mean): 0.0724, Test Loss: 0.0751\n",
      "Epoch [20/1000], Train Loss(mean): 0.0715, Test Loss: 0.0745\n",
      "Epoch [21/1000], Train Loss(mean): 0.0711, Test Loss: 0.0790\n",
      "Epoch [22/1000], Train Loss(mean): 0.0730, Test Loss: 0.0737\n",
      "Epoch [23/1000], Train Loss(mean): 0.0732, Test Loss: 0.0749\n",
      "Epoch [24/1000], Train Loss(mean): 0.0719, Test Loss: 0.0739\n",
      "Epoch [25/1000], Train Loss(mean): 0.0716, Test Loss: 0.0749\n",
      "Epoch [26/1000], Train Loss(mean): 0.0718, Test Loss: 0.0762\n",
      "Epoch [27/1000], Train Loss(mean): 0.0734, Test Loss: 0.0753\n",
      "Epoch [28/1000], Train Loss(mean): 0.0722, Test Loss: 0.0750\n",
      "Epoch [29/1000], Train Loss(mean): 0.0733, Test Loss: 0.0751\n",
      "Epoch [30/1000], Train Loss(mean): 0.0729, Test Loss: 0.0754\n",
      "Epoch [31/1000], Train Loss(mean): 0.0713, Test Loss: 0.0757\n",
      "Epoch [32/1000], Train Loss(mean): 0.0718, Test Loss: 0.0759\n",
      "Epoch [33/1000], Train Loss(mean): 0.0719, Test Loss: 0.0784\n",
      "Epoch [34/1000], Train Loss(mean): 0.0717, Test Loss: 0.0770\n",
      "Epoch [35/1000], Train Loss(mean): 0.0721, Test Loss: 0.0775\n",
      "Epoch [36/1000], Train Loss(mean): 0.0724, Test Loss: 0.0790\n",
      "Epoch [37/1000], Train Loss(mean): 0.0726, Test Loss: 0.0760\n",
      "Epoch [38/1000], Train Loss(mean): 0.0727, Test Loss: 0.0775\n",
      "Epoch [39/1000], Train Loss(mean): 0.0714, Test Loss: 0.0771\n",
      "Epoch [40/1000], Train Loss(mean): 0.0728, Test Loss: 0.0747\n",
      "Epoch [41/1000], Train Loss(mean): 0.0713, Test Loss: 0.0758\n",
      "Epoch [42/1000], Train Loss(mean): 0.0736, Test Loss: 0.0778\n",
      "Epoch [43/1000], Train Loss(mean): 0.0723, Test Loss: 0.0789\n",
      "Epoch [44/1000], Train Loss(mean): 0.0715, Test Loss: 0.0746\n",
      "Epoch [45/1000], Train Loss(mean): 0.0714, Test Loss: 0.0775\n",
      "Epoch [46/1000], Train Loss(mean): 0.0705, Test Loss: 0.0731\n",
      "Epoch [47/1000], Train Loss(mean): 0.0723, Test Loss: 0.0741\n",
      "Epoch [48/1000], Train Loss(mean): 0.0720, Test Loss: 0.0780\n",
      "Epoch [49/1000], Train Loss(mean): 0.0721, Test Loss: 0.0740\n",
      "Epoch [50/1000], Train Loss(mean): 0.0723, Test Loss: 0.0744\n",
      "Epoch [51/1000], Train Loss(mean): 0.0710, Test Loss: 0.0762\n",
      "Epoch [52/1000], Train Loss(mean): 0.0728, Test Loss: 0.0757\n",
      "Epoch [53/1000], Train Loss(mean): 0.0725, Test Loss: 0.0769\n",
      "Epoch [54/1000], Train Loss(mean): 0.0721, Test Loss: 0.0762\n",
      "Epoch [55/1000], Train Loss(mean): 0.0719, Test Loss: 0.0760\n",
      "Epoch [56/1000], Train Loss(mean): 0.0722, Test Loss: 0.0759\n",
      "Finished\n",
      "Finished\n"
     ]
    }
   ],
   "source": [
    "# Train the model\n",
    "total_step = len(train_loader)\n",
    "train_losses = []\n",
    "test_losses = []\n",
    "eps = 2e-4\n",
    "eps_counter = 3\n",
    "for epoch in range(num_epochs):\n",
    "    train_loss = []\n",
    "    for i, (images, labels) in enumerate(train_loader):\n",
    "        images.size()\n",
    "        # Run the forward pass\n",
    "        images = images.float().to(device)\n",
    "        labels = labels.to(device)\n",
    "        outputs = model(images.unsqueeze(1))\n",
    "        loss = criterion(outputs, labels)\n",
    "        train_loss.append(loss.item())\n",
    "\n",
    "        # Backprop and perform Adam optimisation\n",
    "        optimizer.zero_grad()\n",
    "        loss.backward()\n",
    "        optimizer.step()\n",
    "        scheduler.step()\n",
    "        \n",
    "    with torch.no_grad():\n",
    "        images = test.tensors[0].float().to(device)\n",
    "        labels = test.tensors[1].to(device)\n",
    "        output = model(images.unsqueeze(1))  \n",
    "        loss = criterion(output, labels)\n",
    "        test_losses.append(loss.cpu().detach().numpy())\n",
    "            \n",
    "    train_losses.append(np.mean(train_loss)) \n",
    "    print('Epoch [{}/{}], Train Loss(mean): {:.4f}, Test Loss: {:.4f}'\n",
    "                  .format(epoch + 1, num_epochs, np.mean(train_loss),\n",
    "                          test_losses[epoch]))\n",
    "    #early stopper\n",
    "    if len(test_losses) >= 2 and np.abs(test_losses[-1] - test_losses[-2]) < eps:\n",
    "          eps_counter = eps_counter - 1\n",
    "    if eps_counter < 1:\n",
    "        print('Finished')\n",
    "        break\n",
    "print('Finished')"
   ]
  },
  {
   "cell_type": "code",
   "execution_count": null,
   "metadata": {},
   "outputs": [],
   "source": [
    "plt.plot(train_losses)\n",
    "plt.plot(test_losses)\n",
    "plt.show()"
   ]
  },
  {
   "cell_type": "markdown",
   "metadata": {},
   "source": [
    "### Отложенная выборка"
   ]
  },
  {
   "cell_type": "code",
   "execution_count": 15,
   "metadata": {},
   "outputs": [
    {
     "name": "stdout",
     "output_type": "stream",
     "text": [
      "10000\n",
      "Final validation Loss 0.05595099553465843\n"
     ]
    }
   ],
   "source": [
    "model.eval()\n",
    "with torch.no_grad():\n",
    "    images = valid.tensors[0].float().to(device)\n",
    "    labels = valid.tensors[1].to(device)\n",
    "    output = model(images.unsqueeze(1))  \n",
    "    loss = criterion(output, labels)\n",
    "    print('Final validation Loss {}'.format(loss))"
   ]
  },
  {
   "cell_type": "code",
   "execution_count": 28,
   "metadata": {},
   "outputs": [],
   "source": [
    "valid_acc = torch.sum(torch.argmax(output, dim=1) == labels) / valid.tensors[0].size()[0]"
   ]
  },
  {
   "cell_type": "code",
   "execution_count": 29,
   "metadata": {},
   "outputs": [
    {
     "name": "stdout",
     "output_type": "stream",
     "text": [
      "Final validation Accuracy 98.55999755859375 %\n"
     ]
    }
   ],
   "source": [
    "print('Final validation Accuracy {} %'.format(valid_acc*100))"
   ]
  },
  {
   "cell_type": "code",
   "execution_count": 30,
   "metadata": {},
   "outputs": [],
   "source": [
    "#todo: на каких цифрах чаще всего ошибается модел"
   ]
  },
  {
   "cell_type": "markdown",
   "metadata": {},
   "source": [
    "### Сохранение модели"
   ]
  },
  {
   "cell_type": "code",
   "execution_count": 31,
   "metadata": {},
   "outputs": [],
   "source": [
    "torch.save(model.state_dict(), 'mnist-cnn-model.pt')"
   ]
  },
  {
   "cell_type": "code",
   "execution_count": null,
   "metadata": {},
   "outputs": [],
   "source": []
  }
 ],
 "metadata": {
  "kernelspec": {
   "display_name": "env",
   "language": "python",
   "name": "env"
  },
  "language_info": {
   "codemirror_mode": {
    "name": "ipython",
    "version": 3
   },
   "file_extension": ".py",
   "mimetype": "text/x-python",
   "name": "python",
   "nbconvert_exporter": "python",
   "pygments_lexer": "ipython3",
   "version": "3.8.5"
  }
 },
 "nbformat": 4,
 "nbformat_minor": 4
}
