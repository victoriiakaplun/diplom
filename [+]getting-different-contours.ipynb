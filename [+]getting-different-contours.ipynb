{
 "cells": [
  {
   "cell_type": "code",
   "execution_count": 1,
   "metadata": {},
   "outputs": [
    {
     "name": "stdout",
     "output_type": "stream",
     "text": [
      "Requirement already satisfied: scipy in c:\\users\\calypso\\anaconda3\\lib\\site-packages (1.5.2)\n",
      "Requirement already satisfied: numpy>=1.14.5 in c:\\users\\calypso\\anaconda3\\lib\\site-packages (from scipy) (1.19.2)\n"
     ]
    }
   ],
   "source": [
    "!pip install scipy"
   ]
  },
  {
   "cell_type": "code",
   "execution_count": 19,
   "metadata": {},
   "outputs": [],
   "source": [
    "from scipy import ndimage\n",
    "import torch\n",
    "import torch.utils.data as data_utils"
   ]
  },
  {
   "cell_type": "code",
   "execution_count": 20,
   "metadata": {},
   "outputs": [],
   "source": [
    "valid = torch.load('./data/valid.pt')"
   ]
  },
  {
   "cell_type": "code",
   "execution_count": 21,
   "metadata": {},
   "outputs": [],
   "source": [
    "contours_small = []\n",
    "for img in valid.tensors[0]:\n",
    "    dilation_res = ndimage.grey_dilation(img, size=(3,3))\n",
    "    erosion_res = ndimage.grey_erosion(img, size=(1,1))\n",
    "    res = dilation_res - erosion_res\n",
    "    contours_small.append(res)"
   ]
  },
  {
   "cell_type": "code",
   "execution_count": 22,
   "metadata": {},
   "outputs": [],
   "source": [
    "contours_big = []\n",
    "for img in valid.tensors[0]:\n",
    "    dilation_res = ndimage.grey_dilation(img, size=(5,5))\n",
    "    erosion_res = ndimage.grey_erosion(img, size=(1,1))\n",
    "    res = dilation_res - erosion_res\n",
    "    contours_big.append(res)"
   ]
  },
  {
   "cell_type": "code",
   "execution_count": 23,
   "metadata": {},
   "outputs": [],
   "source": [
    "contours_medium = []\n",
    "for img in valid.tensors[0]:\n",
    "    dilation_res = ndimage.grey_dilation(img, size=(4,4))\n",
    "    erosion_res = ndimage.grey_erosion(img, size=(1,1))\n",
    "    res = dilation_res - erosion_res\n",
    "    contours_medium.append(res)"
   ]
  },
  {
   "cell_type": "code",
   "execution_count": 24,
   "metadata": {},
   "outputs": [],
   "source": [
    "contours_small_tensor = torch.Tensor(contours_small)"
   ]
  },
  {
   "cell_type": "code",
   "execution_count": 25,
   "metadata": {},
   "outputs": [],
   "source": [
    "contours_medium_tensor = torch.Tensor(contours_medium)"
   ]
  },
  {
   "cell_type": "code",
   "execution_count": 26,
   "metadata": {},
   "outputs": [],
   "source": [
    "contours_big_tensor = torch.Tensor(contours_big)"
   ]
  },
  {
   "cell_type": "code",
   "execution_count": 27,
   "metadata": {},
   "outputs": [],
   "source": [
    "big = data_utils.TensorDataset(contours_big_tensor, valid.tensors[1])\n",
    "medium = data_utils.TensorDataset(contours_medium_tensor, valid.tensors[1])\n",
    "small = data_utils.TensorDataset(contours_small_tensor, valid.tensors[1])"
   ]
  },
  {
   "cell_type": "code",
   "execution_count": 29,
   "metadata": {},
   "outputs": [],
   "source": [
    "torch.save(big, 'big_contours.pt')\n",
    "torch.save(medium, 'medium_contours.pt')\n",
    "torch.save(small, 'small_contours.pt')"
   ]
  },
  {
   "cell_type": "code",
   "execution_count": null,
   "metadata": {},
   "outputs": [],
   "source": []
  }
 ],
 "metadata": {
  "kernelspec": {
   "display_name": "env",
   "language": "python",
   "name": "env"
  },
  "language_info": {
   "codemirror_mode": {
    "name": "ipython",
    "version": 3
   },
   "file_extension": ".py",
   "mimetype": "text/x-python",
   "name": "python",
   "nbconvert_exporter": "python",
   "pygments_lexer": "ipython3",
   "version": "3.8.5"
  }
 },
 "nbformat": 4,
 "nbformat_minor": 4
}
