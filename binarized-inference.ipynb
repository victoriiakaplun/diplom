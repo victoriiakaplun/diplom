{
 "cells": [
  {
   "cell_type": "code",
   "execution_count": 3,
   "metadata": {},
   "outputs": [],
   "source": [
    "import os    \n",
    "os.environ['KMP_DUPLICATE_LIB_OK']='True'"
   ]
  },
  {
   "cell_type": "code",
   "execution_count": 4,
   "metadata": {},
   "outputs": [],
   "source": [
    "import torch\n",
    "import torch.nn as nn"
   ]
  },
  {
   "cell_type": "code",
   "execution_count": 5,
   "metadata": {},
   "outputs": [],
   "source": [
    "binarized = torch.load('./data/binarized.pt')"
   ]
  },
  {
   "cell_type": "code",
   "execution_count": 6,
   "metadata": {},
   "outputs": [],
   "source": [
    "device = \"cuda\" if torch.cuda.is_available() else \"cpu\""
   ]
  },
  {
   "cell_type": "markdown",
   "metadata": {},
   "source": [
    "### Сверточная сеть"
   ]
  },
  {
   "cell_type": "code",
   "execution_count": 7,
   "metadata": {},
   "outputs": [],
   "source": [
    "class ConvNet(nn.Module):\n",
    "    def __init__(self):\n",
    "\n",
    "        super(ConvNet, self).__init__()\n",
    "        self.layer1 = nn.Sequential(\n",
    "             nn.Conv2d(1, 32, kernel_size=5, stride=1, padding=2),\n",
    "             nn.ReLU(),\n",
    "             nn.MaxPool2d(kernel_size=2, stride=2))\n",
    "        self.layer2 = nn.Sequential(\n",
    "             nn.Conv2d(32, 64, kernel_size=5, stride=1, padding=2),\n",
    "             nn.ReLU(),\n",
    "             nn.MaxPool2d(kernel_size=2, stride=2))\n",
    "        self.bn1 = nn.BatchNorm1d(7 * 7 * 64)\n",
    "        self.fc1 = nn.Linear(7 * 7 * 64, 1000)\n",
    "        self.relu1 = nn.ReLU()\n",
    "        \n",
    "        self.drop_out2 = nn.Dropout(0.1)\n",
    "        self.bn2 = nn.BatchNorm1d(1000)\n",
    "        self.fc2 = nn.Linear(1000, 500)\n",
    "        self.relu2 = nn.ReLU()\n",
    "        \n",
    "        self.drop_out3 = nn.Dropout(0.2)\n",
    "        self.bn3 = nn.BatchNorm1d(500)\n",
    "        self.fc3 = nn.Linear(500, 10)\n",
    "      \n",
    "    def forward(self, x):\n",
    "        out = self.layer1(x)\n",
    "        out = self.layer2(out)\n",
    "        out = out.reshape(out.size(0), -1)\n",
    "        out = self.bn1(out)\n",
    "        out = self.fc1(out)\n",
    "        out = self.relu1(out)\n",
    "        out = self.drop_out2(out)\n",
    "        out = self.bn2(out)\n",
    "        out = self.fc2(out)\n",
    "        out = self.relu2(out)\n",
    "        out = self.drop_out3(out)\n",
    "        out = self.bn3(out)\n",
    "        out = self.fc3(out)\n",
    "        return out"
   ]
  },
  {
   "cell_type": "code",
   "execution_count": 9,
   "metadata": {},
   "outputs": [
    {
     "data": {
      "text/plain": [
       "ConvNet(\n",
       "  (layer1): Sequential(\n",
       "    (0): Conv2d(1, 32, kernel_size=(5, 5), stride=(1, 1), padding=(2, 2))\n",
       "    (1): ReLU()\n",
       "    (2): MaxPool2d(kernel_size=2, stride=2, padding=0, dilation=1, ceil_mode=False)\n",
       "  )\n",
       "  (layer2): Sequential(\n",
       "    (0): Conv2d(32, 64, kernel_size=(5, 5), stride=(1, 1), padding=(2, 2))\n",
       "    (1): ReLU()\n",
       "    (2): MaxPool2d(kernel_size=2, stride=2, padding=0, dilation=1, ceil_mode=False)\n",
       "  )\n",
       "  (bn1): BatchNorm1d(3136, eps=1e-05, momentum=0.1, affine=True, track_running_stats=True)\n",
       "  (fc1): Linear(in_features=3136, out_features=1000, bias=True)\n",
       "  (relu1): ReLU()\n",
       "  (drop_out2): Dropout(p=0.1, inplace=False)\n",
       "  (bn2): BatchNorm1d(1000, eps=1e-05, momentum=0.1, affine=True, track_running_stats=True)\n",
       "  (fc2): Linear(in_features=1000, out_features=500, bias=True)\n",
       "  (relu2): ReLU()\n",
       "  (drop_out3): Dropout(p=0.2, inplace=False)\n",
       "  (bn3): BatchNorm1d(500, eps=1e-05, momentum=0.1, affine=True, track_running_stats=True)\n",
       "  (fc3): Linear(in_features=500, out_features=10, bias=True)\n",
       ")"
      ]
     },
     "execution_count": 9,
     "metadata": {},
     "output_type": "execute_result"
    }
   ],
   "source": [
    "model = torch.load('./models/mnist-cnn-model.pth')\n",
    "model.eval()"
   ]
  },
  {
   "cell_type": "markdown",
   "metadata": {},
   "source": [
    "### Предсказания для бинаризованных изображений сверточной сетью"
   ]
  },
  {
   "cell_type": "code",
   "execution_count": 27,
   "metadata": {},
   "outputs": [],
   "source": [
    "model = model.to(device)"
   ]
  },
  {
   "cell_type": "code",
   "execution_count": 28,
   "metadata": {},
   "outputs": [],
   "source": [
    "criterion = nn.CrossEntropyLoss()"
   ]
  },
  {
   "cell_type": "code",
   "execution_count": 29,
   "metadata": {},
   "outputs": [
    {
     "name": "stdout",
     "output_type": "stream",
     "text": [
      "Final validation Loss 5.768934726715088\n"
     ]
    }
   ],
   "source": [
    "with torch.no_grad():\n",
    "    images = binarized.tensors[0].float().to(device)\n",
    "    labels = binarized.tensors[1].to(device)\n",
    "    output = model(images.unsqueeze(1))  \n",
    "    loss = criterion(output, labels)\n",
    "    print('Final validation Loss {}'.format(loss))"
   ]
  },
  {
   "cell_type": "code",
   "execution_count": 30,
   "metadata": {},
   "outputs": [
    {
     "name": "stdout",
     "output_type": "stream",
     "text": [
      "Final validation Accuracy 11.350000381469727 %\n"
     ]
    }
   ],
   "source": [
    "valid_acc = torch.sum(torch.argmax(nn.functional.softmax(output, dim=1), dim=1) == labels) / 10000\n",
    "print('Final validation Accuracy {} %'.format(valid_acc*100))"
   ]
  },
  {
   "cell_type": "markdown",
   "metadata": {},
   "source": [
    "### Полносвязная сеть"
   ]
  },
  {
   "cell_type": "code",
   "execution_count": 11,
   "metadata": {},
   "outputs": [],
   "source": [
    "class MNISTNet(torch.nn.Module):\n",
    "    def __init__(self):\n",
    "        super(MNISTNet, self).__init__()\n",
    "        self.fc1 = torch.nn.Linear(28*28, 1024)\n",
    "        self.ac1 = torch.nn.ReLU()\n",
    "        self.drop_out1 = nn.Dropout(0.2)\n",
    "        self.bn1 = nn.BatchNorm1d(1024)\n",
    "        \n",
    "        self.fc2 = torch.nn.Linear(1024, 512)\n",
    "        self.ac2 = torch.nn.ReLU()\n",
    "        self.drop_out2 = nn.Dropout(0.3)\n",
    "        self.bn2 = nn.BatchNorm1d(512)\n",
    "        \n",
    "        self.fc3 = torch.nn.Linear(512, 128)\n",
    "        self.ac3 = torch.nn.ReLU()\n",
    "        self.drop_out3 = nn.Dropout(0.4)\n",
    "        self.bn3 = nn.BatchNorm1d(128)\n",
    "        \n",
    "        self.fc4 = torch.nn.Linear(128, 10)\n",
    "        \n",
    "        \n",
    "    def forward(self, x):\n",
    "        x = self.fc1(x)\n",
    "        x = self.ac1(x)\n",
    "        x = self.drop_out1(x)\n",
    "        x = self.bn1(x)\n",
    "        x = self.fc2(x)\n",
    "        x = self.ac2(x)\n",
    "        x = self.drop_out2(x)\n",
    "        x = self.bn2(x)\n",
    "        x = self.fc3(x)\n",
    "        x = self.ac3(x)\n",
    "        x = self.drop_out3(x)\n",
    "        x = self.bn3(x)\n",
    "        x = self.fc4(x)\n",
    "        return x"
   ]
  },
  {
   "cell_type": "code",
   "execution_count": 12,
   "metadata": {},
   "outputs": [
    {
     "data": {
      "text/plain": [
       "MNISTNet(\n",
       "  (fc1): Linear(in_features=784, out_features=1024, bias=True)\n",
       "  (ac1): ReLU()\n",
       "  (drop_out1): Dropout(p=0.2, inplace=False)\n",
       "  (bn1): BatchNorm1d(1024, eps=1e-05, momentum=0.1, affine=True, track_running_stats=True)\n",
       "  (fc2): Linear(in_features=1024, out_features=512, bias=True)\n",
       "  (ac2): ReLU()\n",
       "  (drop_out2): Dropout(p=0.3, inplace=False)\n",
       "  (bn2): BatchNorm1d(512, eps=1e-05, momentum=0.1, affine=True, track_running_stats=True)\n",
       "  (fc3): Linear(in_features=512, out_features=128, bias=True)\n",
       "  (ac3): ReLU()\n",
       "  (drop_out3): Dropout(p=0.4, inplace=False)\n",
       "  (bn3): BatchNorm1d(128, eps=1e-05, momentum=0.1, affine=True, track_running_stats=True)\n",
       "  (fc4): Linear(in_features=128, out_features=10, bias=True)\n",
       ")"
      ]
     },
     "execution_count": 12,
     "metadata": {},
     "output_type": "execute_result"
    }
   ],
   "source": [
    "model_fcnn = torch.load('./models/mnist-fcnn-model.pth')\n",
    "model_fcnn.eval()"
   ]
  },
  {
   "cell_type": "markdown",
   "metadata": {},
   "source": [
    "### Предсказания полносвязной сетью для бинаризованных изображений"
   ]
  },
  {
   "cell_type": "code",
   "execution_count": 33,
   "metadata": {},
   "outputs": [
    {
     "name": "stdout",
     "output_type": "stream",
     "text": [
      "Final validation Loss 2.4645705223083496\n"
     ]
    }
   ],
   "source": [
    "with torch.no_grad():\n",
    "    images = binarized.tensors[0].reshape([-1,28*28]).float().to(device)\n",
    "    labels = binarized.tensors[1].to(device)\n",
    "    output = model_fcnn(images)  \n",
    "    loss = criterion(output, labels)\n",
    "    print('Final validation Loss {}'.format(loss))"
   ]
  },
  {
   "cell_type": "code",
   "execution_count": 34,
   "metadata": {},
   "outputs": [
    {
     "name": "stdout",
     "output_type": "stream",
     "text": [
      "Final validation Accuracy 8.920000076293945 %\n"
     ]
    }
   ],
   "source": [
    "valid_acc = torch.sum(torch.argmax(nn.functional.softmax(output, dim=1), dim=1) == labels) / 10000\n",
    "print('Final validation Accuracy {} %'.format(valid_acc*100))"
   ]
  },
  {
   "cell_type": "code",
   "execution_count": null,
   "metadata": {},
   "outputs": [],
   "source": []
  }
 ],
 "metadata": {
  "kernelspec": {
   "display_name": "env",
   "language": "python",
   "name": "env"
  },
  "language_info": {
   "codemirror_mode": {
    "name": "ipython",
    "version": 3
   },
   "file_extension": ".py",
   "mimetype": "text/x-python",
   "name": "python",
   "nbconvert_exporter": "python",
   "pygments_lexer": "ipython3",
   "version": "3.8.5"
  }
 },
 "nbformat": 4,
 "nbformat_minor": 4
}
