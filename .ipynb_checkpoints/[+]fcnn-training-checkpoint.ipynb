{
 "cells": [
  {
   "cell_type": "code",
   "execution_count": 1,
   "metadata": {},
   "outputs": [],
   "source": [
    "import os    \n",
    "os.environ['KMP_DUPLICATE_LIB_OK']='True'"
   ]
  },
  {
   "cell_type": "code",
   "execution_count": 1,
   "metadata": {},
   "outputs": [
    {
     "name": "stdout",
     "output_type": "stream",
     "text": [
      "Looking in links: https://download.pytorch.org/whl/torch_stable.html\n",
      "Collecting torch==1.7.0+cu110\n",
      "  Using cached https://download.pytorch.org/whl/cu110/torch-1.7.0%2Bcu110-cp38-cp38-win_amd64.whl (2046.8 MB)\n",
      "Collecting torchvision==0.8.1+cu110\n",
      "  Using cached https://download.pytorch.org/whl/cu110/torchvision-0.8.1%2Bcu110-cp38-cp38-win_amd64.whl (1.6 MB)\n",
      "Collecting torchaudio===0.7.0\n",
      "  Using cached https://download.pytorch.org/whl/torchaudio-0.7.0-cp38-none-win_amd64.whl (103 kB)\n",
      "Requirement already satisfied: typing-extensions in c:\\users\\calypso\\anaconda3\\lib\\site-packages (from torch==1.7.0+cu110) (3.7.4.3)\n",
      "Collecting dataclasses\n",
      "  Using cached dataclasses-0.6-py3-none-any.whl (14 kB)\n",
      "Requirement already satisfied: future in c:\\users\\calypso\\anaconda3\\lib\\site-packages (from torch==1.7.0+cu110) (0.18.2)\n",
      "Requirement already satisfied: numpy in c:\\users\\calypso\\anaconda3\\lib\\site-packages (from torch==1.7.0+cu110) (1.19.2)\n",
      "Requirement already satisfied: pillow>=4.1.1 in c:\\users\\calypso\\anaconda3\\lib\\site-packages (from torchvision==0.8.1+cu110) (8.0.1)\n",
      "Installing collected packages: dataclasses, torch, torchvision, torchaudio\n",
      "  Attempting uninstall: torch\n",
      "    Found existing installation: torch 1.8.1\n",
      "    Uninstalling torch-1.8.1:\n",
      "      Successfully uninstalled torch-1.8.1\n",
      "  Attempting uninstall: torchvision\n",
      "    Found existing installation: torchvision 0.9.1\n",
      "    Uninstalling torchvision-0.9.1:\n",
      "      Successfully uninstalled torchvision-0.9.1\n",
      "Successfully installed dataclasses-0.6 torch-1.7.0+cu110 torchaudio-0.7.0 torchvision-0.8.1+cu110\n"
     ]
    }
   ],
   "source": [
    "!pip install torch==1.7.0+cu110 torchvision==0.8.1+cu110 torchaudio===0.7.0 -f https://download.pytorch.org/whl/torch_stable.html"
   ]
  },
  {
   "cell_type": "markdown",
   "metadata": {},
   "source": [
    "### Построение нейросети, распознающей рукописные цифры"
   ]
  },
  {
   "cell_type": "markdown",
   "metadata": {},
   "source": [
    "### Построение нейросети"
   ]
  },
  {
   "cell_type": "code",
   "execution_count": 2,
   "metadata": {},
   "outputs": [],
   "source": [
    "import numpy as np\n",
    "import torch\n",
    "import seaborn as sns\n",
    "from matplotlib import pyplot as plt\n",
    "\n",
    "# import standard PyTorch modules\n",
    "import torch\n",
    "import torch.nn as nn\n",
    "import torch.nn.functional as F\n",
    "import torch.optim as optim\n",
    "\n",
    "# import torchvision module to handle image manipulation\n",
    "import torchvision\n",
    "import torchvision.transforms as transforms\n",
    "from torch.utils.data import DataLoader\n",
    "\n",
    "import pandas as pd"
   ]
  },
  {
   "cell_type": "code",
   "execution_count": 3,
   "metadata": {},
   "outputs": [],
   "source": [
    "torch.manual_seed(1)\n",
    "np.random.seed(1)\n",
    "torch.cuda.manual_seed(0)\n",
    "torch.backends.cudnn.deterministic = True"
   ]
  },
  {
   "cell_type": "code",
   "execution_count": 4,
   "metadata": {},
   "outputs": [],
   "source": [
    "import random\n",
    "random.seed(0)"
   ]
  },
  {
   "cell_type": "code",
   "execution_count": 5,
   "metadata": {},
   "outputs": [],
   "source": [
    "train = torch.load('./data/train.pt')\n",
    "test = torch.load('./data/test.pt')\n",
    "valid = torch.load('./data/valid.pt')"
   ]
  },
  {
   "cell_type": "code",
   "execution_count": 6,
   "metadata": {},
   "outputs": [
    {
     "data": {
      "text/plain": [
       "<torch.utils.data.dataset.TensorDataset at 0x1ec852773a0>"
      ]
     },
     "execution_count": 6,
     "metadata": {},
     "output_type": "execute_result"
    }
   ],
   "source": [
    "train"
   ]
  },
  {
   "cell_type": "code",
   "execution_count": 7,
   "metadata": {},
   "outputs": [],
   "source": [
    "batch_size = 1000\n",
    "train_loader = DataLoader(dataset=train, batch_size=1000, shuffle=True)\n",
    "test_loader = DataLoader(dataset=test, batch_size=1000, shuffle=False)\n",
    "valid_loader = DataLoader(dataset=valid, batch_size=1000, shuffle=False)"
   ]
  },
  {
   "cell_type": "code",
   "execution_count": 8,
   "metadata": {},
   "outputs": [
    {
     "data": {
      "text/plain": [
       "<torch.utils.data.dataset.TensorDataset at 0x1ec852773a0>"
      ]
     },
     "execution_count": 8,
     "metadata": {},
     "output_type": "execute_result"
    }
   ],
   "source": [
    "train_loader.dataset"
   ]
  },
  {
   "cell_type": "code",
   "execution_count": 9,
   "metadata": {},
   "outputs": [
    {
     "data": {
      "text/plain": [
       "'cuda'"
      ]
     },
     "execution_count": 9,
     "metadata": {},
     "output_type": "execute_result"
    }
   ],
   "source": [
    "device = \"cuda\" if torch.cuda.is_available() else \"cpu\"\n",
    "device"
   ]
  },
  {
   "cell_type": "code",
   "execution_count": 10,
   "metadata": {},
   "outputs": [],
   "source": [
    "class MNISTNet(torch.nn.Module):\n",
    "    def __init__(self):\n",
    "        super(MNISTNet, self).__init__()\n",
    "        self.fc1 = torch.nn.Linear(28*28, 1024)\n",
    "        self.ac1 = torch.nn.ReLU()\n",
    "        self.drop_out1 = nn.Dropout(0.2)\n",
    "        self.bn1 = nn.BatchNorm1d(1024)\n",
    "        \n",
    "        self.fc2 = torch.nn.Linear(1024, 512)\n",
    "        self.ac2 = torch.nn.ReLU()\n",
    "        self.drop_out2 = nn.Dropout(0.3)\n",
    "        self.bn2 = nn.BatchNorm1d(512)\n",
    "        \n",
    "        self.fc3 = torch.nn.Linear(512, 128)\n",
    "        self.ac3 = torch.nn.ReLU()\n",
    "        self.drop_out3 = nn.Dropout(0.4)\n",
    "        self.bn3 = nn.BatchNorm1d(128)\n",
    "        \n",
    "        self.fc4 = torch.nn.Linear(128, 10)\n",
    "        #в архитектуре на выходе нет софтмакса, так как он вычисляет внутри nn.CrossEntropyLoss()\n",
    "        #и учитывается во время подсчета accuracy\n",
    "        \n",
    "        \n",
    "    def forward(self, x):\n",
    "        x = self.fc1(x)\n",
    "        x = self.ac1(x)\n",
    "        x = self.drop_out1(x)\n",
    "        x = self.bn1(x)\n",
    "        x = self.fc2(x)\n",
    "        x = self.ac2(x)\n",
    "        x = self.drop_out2(x)\n",
    "        x = self.bn2(x)\n",
    "        x = self.fc3(x)\n",
    "        x = self.ac3(x)\n",
    "        x = self.drop_out3(x)\n",
    "        x = self.bn3(x)\n",
    "        x = self.fc4(x)\n",
    "        return x"
   ]
  },
  {
   "cell_type": "code",
   "execution_count": 35,
   "metadata": {},
   "outputs": [],
   "source": [
    "num_epochs = 100\n",
    "num_classes = 10\n",
    "learning_rate = 1e-3"
   ]
  },
  {
   "cell_type": "code",
   "execution_count": 36,
   "metadata": {},
   "outputs": [],
   "source": [
    "from  torch.optim.lr_scheduler import StepLR"
   ]
  },
  {
   "cell_type": "code",
   "execution_count": 37,
   "metadata": {},
   "outputs": [],
   "source": [
    "model = MNISTNet()\n",
    "model = model.to(device)\n",
    "criterion = nn.CrossEntropyLoss()\n",
    "optimizer = torch.optim.Adam(model.parameters(), lr=learning_rate)\n",
    "scheduler = StepLR(optimizer, step_size=10, gamma=0.7)"
   ]
  },
  {
   "cell_type": "code",
   "execution_count": 38,
   "metadata": {},
   "outputs": [
    {
     "name": "stdout",
     "output_type": "stream",
     "text": [
      "Epoch [1/100], Train Loss(mean): 0.5155, Test Loss: 0.2663\n",
      "Epoch [2/100], Train Loss(mean): 0.2346, Test Loss: 0.2263\n",
      "Epoch [3/100], Train Loss(mean): 0.2140, Test Loss: 0.2233\n",
      "Epoch [4/100], Train Loss(mean): 0.2099, Test Loss: 0.2216\n",
      "Epoch [5/100], Train Loss(mean): 0.2101, Test Loss: 0.2209\n",
      "Epoch [6/100], Train Loss(mean): 0.2088, Test Loss: 0.2234\n",
      "Epoch [7/100], Train Loss(mean): 0.2088, Test Loss: 0.2172\n",
      "Epoch [8/100], Train Loss(mean): 0.2080, Test Loss: 0.2217\n",
      "Epoch [9/100], Train Loss(mean): 0.2088, Test Loss: 0.2217\n",
      "Epoch [10/100], Train Loss(mean): 0.2100, Test Loss: 0.2213\n",
      "Epoch [11/100], Train Loss(mean): 0.2085, Test Loss: 0.2216\n",
      "Epoch [12/100], Train Loss(mean): 0.2085, Test Loss: 0.2193\n",
      "Epoch [13/100], Train Loss(mean): 0.2092, Test Loss: 0.2207\n",
      "Epoch [14/100], Train Loss(mean): 0.2095, Test Loss: 0.2235\n",
      "Epoch [15/100], Train Loss(mean): 0.2080, Test Loss: 0.2188\n",
      "Epoch [16/100], Train Loss(mean): 0.2100, Test Loss: 0.2195\n",
      "Epoch [17/100], Train Loss(mean): 0.2093, Test Loss: 0.2170\n",
      "Epoch [18/100], Train Loss(mean): 0.2089, Test Loss: 0.2216\n",
      "Epoch [19/100], Train Loss(mean): 0.2088, Test Loss: 0.2198\n",
      "Epoch [20/100], Train Loss(mean): 0.2099, Test Loss: 0.2208\n",
      "Epoch [21/100], Train Loss(mean): 0.2081, Test Loss: 0.2200\n",
      "Epoch [22/100], Train Loss(mean): 0.2093, Test Loss: 0.2183\n",
      "Epoch [23/100], Train Loss(mean): 0.2097, Test Loss: 0.2206\n",
      "Epoch [24/100], Train Loss(mean): 0.2089, Test Loss: 0.2197\n",
      "Epoch [25/100], Train Loss(mean): 0.2090, Test Loss: 0.2201\n",
      "Epoch [26/100], Train Loss(mean): 0.2085, Test Loss: 0.2200\n",
      "Epoch [27/100], Train Loss(mean): 0.2087, Test Loss: 0.2213\n",
      "Epoch [28/100], Train Loss(mean): 0.2094, Test Loss: 0.2215\n",
      "Epoch [29/100], Train Loss(mean): 0.2085, Test Loss: 0.2197\n",
      "Epoch [30/100], Train Loss(mean): 0.2089, Test Loss: 0.2205\n",
      "Epoch [31/100], Train Loss(mean): 0.2081, Test Loss: 0.2215\n",
      "Epoch [32/100], Train Loss(mean): 0.2084, Test Loss: 0.2180\n",
      "Epoch [33/100], Train Loss(mean): 0.2078, Test Loss: 0.2177\n",
      "Epoch [34/100], Train Loss(mean): 0.2088, Test Loss: 0.2192\n",
      "Epoch [35/100], Train Loss(mean): 0.2086, Test Loss: 0.2192\n",
      "Epoch [36/100], Train Loss(mean): 0.2086, Test Loss: 0.2190\n",
      "Epoch [37/100], Train Loss(mean): 0.2091, Test Loss: 0.2231\n",
      "Epoch [38/100], Train Loss(mean): 0.2083, Test Loss: 0.2219\n",
      "Epoch [39/100], Train Loss(mean): 0.2088, Test Loss: 0.2219\n",
      "Epoch [40/100], Train Loss(mean): 0.2093, Test Loss: 0.2195\n",
      "Epoch [41/100], Train Loss(mean): 0.2089, Test Loss: 0.2181\n",
      "Epoch [42/100], Train Loss(mean): 0.2084, Test Loss: 0.2225\n",
      "Epoch [43/100], Train Loss(mean): 0.2089, Test Loss: 0.2206\n",
      "Epoch [44/100], Train Loss(mean): 0.2089, Test Loss: 0.2216\n",
      "Epoch [45/100], Train Loss(mean): 0.2080, Test Loss: 0.2186\n",
      "Epoch [46/100], Train Loss(mean): 0.2089, Test Loss: 0.2218\n",
      "Epoch [47/100], Train Loss(mean): 0.2094, Test Loss: 0.2197\n",
      "Epoch [48/100], Train Loss(mean): 0.2083, Test Loss: 0.2198\n",
      "Epoch [49/100], Train Loss(mean): 0.2086, Test Loss: 0.2194\n",
      "Epoch [50/100], Train Loss(mean): 0.2101, Test Loss: 0.2189\n",
      "Epoch [51/100], Train Loss(mean): 0.2084, Test Loss: 0.2227\n",
      "Epoch [52/100], Train Loss(mean): 0.2097, Test Loss: 0.2239\n",
      "Epoch [53/100], Train Loss(mean): 0.2103, Test Loss: 0.2209\n",
      "Epoch [54/100], Train Loss(mean): 0.2088, Test Loss: 0.2203\n",
      "Epoch [55/100], Train Loss(mean): 0.2090, Test Loss: 0.2222\n",
      "Epoch [56/100], Train Loss(mean): 0.2081, Test Loss: 0.2228\n",
      "Epoch [57/100], Train Loss(mean): 0.2099, Test Loss: 0.2165\n",
      "Epoch [58/100], Train Loss(mean): 0.2100, Test Loss: 0.2182\n",
      "Epoch [59/100], Train Loss(mean): 0.2084, Test Loss: 0.2188\n",
      "Epoch [60/100], Train Loss(mean): 0.2088, Test Loss: 0.2198\n",
      "Epoch [61/100], Train Loss(mean): 0.2083, Test Loss: 0.2197\n",
      "Epoch [62/100], Train Loss(mean): 0.2089, Test Loss: 0.2186\n",
      "Epoch [63/100], Train Loss(mean): 0.2093, Test Loss: 0.2203\n",
      "Epoch [64/100], Train Loss(mean): 0.2087, Test Loss: 0.2229\n",
      "Epoch [65/100], Train Loss(mean): 0.2088, Test Loss: 0.2193\n",
      "Epoch [66/100], Train Loss(mean): 0.2099, Test Loss: 0.2212\n",
      "Epoch [67/100], Train Loss(mean): 0.2080, Test Loss: 0.2177\n",
      "Epoch [68/100], Train Loss(mean): 0.2086, Test Loss: 0.2211\n",
      "Epoch [69/100], Train Loss(mean): 0.2090, Test Loss: 0.2186\n",
      "Epoch [70/100], Train Loss(mean): 0.2085, Test Loss: 0.2214\n",
      "Epoch [71/100], Train Loss(mean): 0.2087, Test Loss: 0.2199\n",
      "Epoch [72/100], Train Loss(mean): 0.2082, Test Loss: 0.2200\n",
      "Epoch [73/100], Train Loss(mean): 0.2081, Test Loss: 0.2206\n",
      "Epoch [74/100], Train Loss(mean): 0.2095, Test Loss: 0.2191\n",
      "Epoch [75/100], Train Loss(mean): 0.2093, Test Loss: 0.2211\n",
      "Epoch [76/100], Train Loss(mean): 0.2090, Test Loss: 0.2167\n",
      "Epoch [77/100], Train Loss(mean): 0.2091, Test Loss: 0.2218\n",
      "Epoch [78/100], Train Loss(mean): 0.2085, Test Loss: 0.2206\n",
      "Epoch [79/100], Train Loss(mean): 0.2090, Test Loss: 0.2224\n",
      "Epoch [80/100], Train Loss(mean): 0.2087, Test Loss: 0.2196\n",
      "Epoch [81/100], Train Loss(mean): 0.2084, Test Loss: 0.2208\n",
      "Epoch [82/100], Train Loss(mean): 0.2088, Test Loss: 0.2227\n",
      "Epoch [83/100], Train Loss(mean): 0.2093, Test Loss: 0.2191\n",
      "Epoch [84/100], Train Loss(mean): 0.2090, Test Loss: 0.2254\n",
      "Epoch [85/100], Train Loss(mean): 0.2098, Test Loss: 0.2198\n",
      "Epoch [86/100], Train Loss(mean): 0.2091, Test Loss: 0.2214\n",
      "Epoch [87/100], Train Loss(mean): 0.2085, Test Loss: 0.2189\n",
      "Epoch [88/100], Train Loss(mean): 0.2089, Test Loss: 0.2194\n",
      "Epoch [89/100], Train Loss(mean): 0.2088, Test Loss: 0.2207\n",
      "Epoch [90/100], Train Loss(mean): 0.2094, Test Loss: 0.2178\n",
      "Epoch [91/100], Train Loss(mean): 0.2088, Test Loss: 0.2200\n",
      "Epoch [92/100], Train Loss(mean): 0.2083, Test Loss: 0.2206\n",
      "Epoch [93/100], Train Loss(mean): 0.2084, Test Loss: 0.2200\n",
      "Epoch [94/100], Train Loss(mean): 0.2087, Test Loss: 0.2170\n",
      "Epoch [95/100], Train Loss(mean): 0.2091, Test Loss: 0.2194\n",
      "Epoch [96/100], Train Loss(mean): 0.2087, Test Loss: 0.2203\n",
      "Epoch [97/100], Train Loss(mean): 0.2096, Test Loss: 0.2199\n",
      "Epoch [98/100], Train Loss(mean): 0.2082, Test Loss: 0.2218\n",
      "Epoch [99/100], Train Loss(mean): 0.2087, Test Loss: 0.2227\n",
      "Epoch [100/100], Train Loss(mean): 0.2088, Test Loss: 0.2178\n",
      "Finished\n",
      "Wall time: 1min\n"
     ]
    }
   ],
   "source": [
    "%%time\n",
    "# Train the model\n",
    "total_step = len(train_loader)\n",
    "train_losses = []\n",
    "test_losses = []\n",
    "eps = 1e-4\n",
    "eps_counter = 0\n",
    "EPS_BORDER = 3\n",
    "for epoch in range(num_epochs):\n",
    "    train_loss = []\n",
    "    for i, (images, labels) in enumerate(train_loader):\n",
    "        images.size()\n",
    "        # Run the forward pass\n",
    "        images = images.reshape([-1,28*28]).float().to(device)\n",
    "        labels = labels.to(device)\n",
    "        outputs = model(images)\n",
    "        loss = criterion(outputs, labels)\n",
    "        train_loss.append(loss.item())\n",
    "\n",
    "        # Backprop and perform Adam optimisation\n",
    "        optimizer.zero_grad()\n",
    "        loss.backward()\n",
    "        optimizer.step()\n",
    "        scheduler.step()\n",
    "        \n",
    "    with torch.no_grad():\n",
    "        images = test.tensors[0].reshape([-1,28*28]).float().to(device)\n",
    "        labels = test.tensors[1].to(device)\n",
    "        output = model(images)  \n",
    "        loss = criterion(output, labels)\n",
    "        test_losses.append(loss.cpu().detach().numpy())\n",
    "            \n",
    "    train_losses.append(np.mean(train_loss)) \n",
    "    print('Epoch [{}/{}], Train Loss(mean): {:.4f}, Test Loss: {:.4f}'\n",
    "                  .format(epoch + 1, num_epochs, np.mean(train_loss),\n",
    "                          test_losses[epoch]))\n",
    "    #early stopper\n",
    "    if len(test_losses) >= 2 and np.abs(test_losses[-1] - test_losses[-2]) < eps:\n",
    "        eps_counter = eps_counter + 1\n",
    "    else:\n",
    "        eps_counter = 0\n",
    "    if eps_counter >= EPS_BORDER:\n",
    "        break\n",
    "print('Finished')"
   ]
  },
  {
   "cell_type": "code",
   "execution_count": 39,
   "metadata": {},
   "outputs": [
    {
     "data": {
      "image/png": "[encoded data removed]",
      "text/plain": [
       "<Figure size 432x288 with 1 Axes>"
      ]
     },
     "metadata": {
      "needs_background": "light"
     },
     "output_type": "display_data"
    }
   ],
   "source": [
    "plt.plot(train_losses)\n",
    "plt.plot(test_losses)\n",
    "plt.show()"
   ]
  },
  {
   "cell_type": "markdown",
   "metadata": {},
   "source": [
    "### Отложенная выборка"
   ]
  },
  {
   "cell_type": "code",
   "execution_count": 40,
   "metadata": {},
   "outputs": [
    {
     "name": "stdout",
     "output_type": "stream",
     "text": [
      "Final validation Loss 0.16777054965496063\n"
     ]
    }
   ],
   "source": [
    "model.eval()\n",
    "with torch.no_grad():\n",
    "    images = valid.tensors[0].reshape([-1,28*28]).float().to(device)\n",
    "    labels = valid.tensors[1].to(device)\n",
    "    output = model(images)  \n",
    "    loss = criterion(output, labels)\n",
    "    print('Final validation Loss {}'.format(loss))"
   ]
  },
  {
   "cell_type": "code",
   "execution_count": 41,
   "metadata": {},
   "outputs": [],
   "source": [
    "valid_acc = torch.sum(torch.argmax(nn.functional.softmax(output, dim=1), dim=1) == labels) / valid.tensors[0].size()[0]"
   ]
  },
  {
   "cell_type": "code",
   "execution_count": 42,
   "metadata": {},
   "outputs": [
    {
     "name": "stdout",
     "output_type": "stream",
     "text": [
      "Final validation Accuracy 95.91999816894531 %\n"
     ]
    }
   ],
   "source": [
    "print('Final validation Accuracy {} %'.format(valid_acc*100))"
   ]
  },
  {
   "cell_type": "markdown",
   "metadata": {},
   "source": [
    "### Сохранение модели"
   ]
  },
  {
   "cell_type": "code",
   "execution_count": 43,
   "metadata": {},
   "outputs": [],
   "source": [
    "torch.save(model, 'mnist-fcnn-model.pth')"
   ]
  },
  {
   "cell_type": "code",
   "execution_count": 44,
   "metadata": {},
   "outputs": [
    {
     "data": {
      "text/plain": [
       "MNISTNet(\n",
       "  (fc1): Linear(in_features=784, out_features=1024, bias=True)\n",
       "  (ac1): ReLU()\n",
       "  (drop_out1): Dropout(p=0.2, inplace=False)\n",
       "  (bn1): BatchNorm1d(1024, eps=1e-05, momentum=0.1, affine=True, track_running_stats=True)\n",
       "  (fc2): Linear(in_features=1024, out_features=512, bias=True)\n",
       "  (ac2): ReLU()\n",
       "  (drop_out2): Dropout(p=0.3, inplace=False)\n",
       "  (bn2): BatchNorm1d(512, eps=1e-05, momentum=0.1, affine=True, track_running_stats=True)\n",
       "  (fc3): Linear(in_features=512, out_features=128, bias=True)\n",
       "  (ac3): ReLU()\n",
       "  (drop_out3): Dropout(p=0.4, inplace=False)\n",
       "  (bn3): BatchNorm1d(128, eps=1e-05, momentum=0.1, affine=True, track_running_stats=True)\n",
       "  (fc4): Linear(in_features=128, out_features=10, bias=True)\n",
       ")"
      ]
     },
     "execution_count": 44,
     "metadata": {},
     "output_type": "execute_result"
    }
   ],
   "source": [
    "model"
   ]
  }
 ],
 "metadata": {
  "kernelspec": {
   "display_name": "env",
   "language": "python",
   "name": "env"
  },
  "language_info": {
   "codemirror_mode": {
    "name": "ipython",
    "version": 3
   },
   "file_extension": ".py",
   "mimetype": "text/x-python",
   "name": "python",
   "nbconvert_exporter": "python",
   "pygments_lexer": "ipython3",
   "version": "3.8.5"
  }
 },
 "nbformat": 4,
 "nbformat_minor": 4
}
