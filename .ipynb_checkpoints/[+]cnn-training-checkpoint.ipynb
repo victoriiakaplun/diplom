{
 "cells": [
  {
   "cell_type": "code",
   "execution_count": 14,
   "metadata": {},
   "outputs": [],
   "source": [
    "import os    \n",
    "os.environ['KMP_DUPLICATE_LIB_OK']='True'"
   ]
  },
  {
   "cell_type": "code",
   "execution_count": 1,
   "metadata": {},
   "outputs": [
    {
     "name": "stdout",
     "output_type": "stream",
     "text": [
      "Looking in links: https://download.pytorch.org/whl/torch_stable.html\n",
      "Collecting torch==1.7.0+cu110\n",
      "  Using cached https://download.pytorch.org/whl/cu110/torch-1.7.0%2Bcu110-cp38-cp38-win_amd64.whl (2046.8 MB)\n",
      "Collecting torchvision==0.8.1+cu110\n",
      "  Using cached https://download.pytorch.org/whl/cu110/torchvision-0.8.1%2Bcu110-cp38-cp38-win_amd64.whl (1.6 MB)\n",
      "Collecting torchaudio===0.7.0\n",
      "  Using cached https://download.pytorch.org/whl/torchaudio-0.7.0-cp38-none-win_amd64.whl (103 kB)\n",
      "Requirement already satisfied: typing-extensions in c:\\users\\calypso\\anaconda3\\lib\\site-packages (from torch==1.7.0+cu110) (3.7.4.3)\n",
      "Collecting dataclasses\n",
      "  Using cached dataclasses-0.6-py3-none-any.whl (14 kB)\n",
      "Requirement already satisfied: future in c:\\users\\calypso\\anaconda3\\lib\\site-packages (from torch==1.7.0+cu110) (0.18.2)\n",
      "Requirement already satisfied: numpy in c:\\users\\calypso\\anaconda3\\lib\\site-packages (from torch==1.7.0+cu110) (1.19.2)\n",
      "Requirement already satisfied: pillow>=4.1.1 in c:\\users\\calypso\\anaconda3\\lib\\site-packages (from torchvision==0.8.1+cu110) (8.0.1)\n",
      "Installing collected packages: dataclasses, torch, torchvision, torchaudio\n",
      "  Attempting uninstall: torch\n",
      "    Found existing installation: torch 1.8.1\n",
      "    Uninstalling torch-1.8.1:\n",
      "      Successfully uninstalled torch-1.8.1\n",
      "  Attempting uninstall: torchvision\n",
      "    Found existing installation: torchvision 0.9.1\n",
      "    Uninstalling torchvision-0.9.1:\n",
      "      Successfully uninstalled torchvision-0.9.1\n",
      "Successfully installed dataclasses-0.6 torch-1.7.0+cu110 torchaudio-0.7.0 torchvision-0.8.1+cu110\n"
     ]
    }
   ],
   "source": [
    "!pip install torch==1.7.0+cu110 torchvision==0.8.1+cu110 torchaudio===0.7.0 -f https://download.pytorch.org/whl/torch_stable.html"
   ]
  },
  {
   "cell_type": "markdown",
   "metadata": {},
   "source": [
    "### Построение нейросети, распознающей рукописные цифры"
   ]
  },
  {
   "cell_type": "markdown",
   "metadata": {},
   "source": [
    "### Построение нейросети"
   ]
  },
  {
   "cell_type": "code",
   "execution_count": 1,
   "metadata": {},
   "outputs": [],
   "source": [
    "import numpy as np\n",
    "import torch\n",
    "import seaborn as sns\n",
    "from matplotlib import pyplot as plt\n",
    "\n",
    "# import standard PyTorch modules\n",
    "import torch\n",
    "import torch.nn as nn\n",
    "import torch.nn.functional as F\n",
    "import torch.optim as optim\n",
    "\n",
    "# import torchvision module to handle image manipulation\n",
    "import torchvision\n",
    "import torchvision.transforms as transforms\n",
    "from torch.utils.data import DataLoader\n",
    "from torch.utils.tensorboard import SummaryWriter\n",
    "\n",
    "import pandas as pd"
   ]
  },
  {
   "cell_type": "code",
   "execution_count": 2,
   "metadata": {},
   "outputs": [],
   "source": [
    "torch.manual_seed(1)\n",
    "np.random.seed(1)"
   ]
  },
  {
   "cell_type": "code",
   "execution_count": 3,
   "metadata": {},
   "outputs": [],
   "source": [
    "import random\n",
    "random.seed(0)"
   ]
  },
  {
   "cell_type": "code",
   "execution_count": 4,
   "metadata": {},
   "outputs": [],
   "source": [
    "train = torch.load('./data/train.pt')\n",
    "test = torch.load('./data/test.pt')\n",
    "valid = torch.load('./data/valid.pt')"
   ]
  },
  {
   "cell_type": "code",
   "execution_count": 5,
   "metadata": {},
   "outputs": [],
   "source": [
    "batch_size = 1000\n",
    "train_loader = DataLoader(dataset=train, batch_size=1000, shuffle=True)\n",
    "test_loader = DataLoader(dataset=test, batch_size=1000, shuffle=False)\n",
    "valid_loader = DataLoader(dataset=valid, batch_size=1000, shuffle=False)"
   ]
  },
  {
   "cell_type": "code",
   "execution_count": 6,
   "metadata": {},
   "outputs": [
    {
     "data": {
      "text/plain": [
       "'cuda'"
      ]
     },
     "execution_count": 6,
     "metadata": {},
     "output_type": "execute_result"
    }
   ],
   "source": [
    "device = \"cuda\" if torch.cuda.is_available() else \"cpu\"\n",
    "device"
   ]
  },
  {
   "cell_type": "code",
   "execution_count": 7,
   "metadata": {},
   "outputs": [],
   "source": [
    "class ConvNet(nn.Module):\n",
    "    def __init__(self):\n",
    "\n",
    "        super(ConvNet, self).__init__()\n",
    "        self.layer1 = nn.Sequential(\n",
    "             nn.Conv2d(1, 32, kernel_size=5, stride=1, padding=2),\n",
    "             nn.ReLU(),\n",
    "             nn.MaxPool2d(kernel_size=2, stride=2))\n",
    "        self.layer2 = nn.Sequential(\n",
    "             nn.Conv2d(32, 64, kernel_size=5, stride=1, padding=2),\n",
    "             nn.ReLU(),\n",
    "             nn.MaxPool2d(kernel_size=2, stride=2))\n",
    "        self.bn1 = nn.BatchNorm1d(7 * 7 * 64)\n",
    "        self.fc1 = nn.Linear(7 * 7 * 64, 1000)\n",
    "        self.relu1 = nn.ReLU()\n",
    "        \n",
    "        self.drop_out2 = nn.Dropout(0.1)\n",
    "        self.bn2 = nn.BatchNorm1d(1000)\n",
    "        self.fc2 = nn.Linear(1000, 500)\n",
    "        self.relu2 = nn.ReLU()\n",
    "        \n",
    "        self.drop_out3 = nn.Dropout(0.2)\n",
    "        self.bn3 = nn.BatchNorm1d(500)\n",
    "        self.fc3 = nn.Linear(500, 10)\n",
    "        #в архитектуре на выходе нет софтмакса, так как он вычисляет внутри nn.CrossEntropyLoss()\n",
    "        #и учитывается во время подсчета accuracy\n",
    "      \n",
    "    def forward(self, x):\n",
    "        out = self.layer1(x)\n",
    "        out = self.layer2(out)\n",
    "        out = out.reshape(out.size(0), -1)\n",
    "        out = self.bn1(out)\n",
    "        out = self.fc1(out)\n",
    "        out = self.relu1(out)\n",
    "        out = self.drop_out2(out)\n",
    "        out = self.bn2(out)\n",
    "        out = self.fc2(out)\n",
    "        out = self.relu2(out)\n",
    "        out = self.drop_out3(out)\n",
    "        out = self.bn3(out)\n",
    "        out = self.fc3(out)\n",
    "        return out"
   ]
  },
  {
   "cell_type": "code",
   "execution_count": 41,
   "metadata": {},
   "outputs": [],
   "source": [
    "num_epochs = 200\n",
    "num_classes = 10\n",
    "learning_rate = 1e-3"
   ]
  },
  {
   "cell_type": "code",
   "execution_count": 42,
   "metadata": {},
   "outputs": [],
   "source": [
    "from  torch.optim.lr_scheduler import StepLR"
   ]
  },
  {
   "cell_type": "code",
   "execution_count": 57,
   "metadata": {},
   "outputs": [],
   "source": [
    "model = ConvNet()\n",
    "model = model.to(device)\n",
    "criterion = nn.CrossEntropyLoss()\n",
    "optimizer = torch.optim.Adam(model.parameters(), lr=learning_rate)\n",
    "scheduler = StepLR(optimizer, step_size=10, gamma=0.7)"
   ]
  },
  {
   "cell_type": "code",
   "execution_count": 58,
   "metadata": {},
   "outputs": [
    {
     "name": "stdout",
     "output_type": "stream",
     "text": [
      "Epoch [1/200], Train Loss(mean): 0.1764, Test Loss: 0.0557\n",
      "Epoch [2/200], Train Loss(mean): 0.0436, Test Loss: 0.0461\n",
      "Epoch [3/200], Train Loss(mean): 0.0362, Test Loss: 0.0448\n",
      "Epoch [4/200], Train Loss(mean): 0.0342, Test Loss: 0.0445\n",
      "Epoch [5/200], Train Loss(mean): 0.0344, Test Loss: 0.0447\n",
      "Epoch [6/200], Train Loss(mean): 0.0343, Test Loss: 0.0447\n",
      "Epoch [7/200], Train Loss(mean): 0.0339, Test Loss: 0.0442\n",
      "Epoch [8/200], Train Loss(mean): 0.0343, Test Loss: 0.0439\n",
      "Epoch [9/200], Train Loss(mean): 0.0344, Test Loss: 0.0448\n",
      "Epoch [10/200], Train Loss(mean): 0.0339, Test Loss: 0.0433\n",
      "Epoch [11/200], Train Loss(mean): 0.0345, Test Loss: 0.0449\n",
      "Epoch [12/200], Train Loss(mean): 0.0338, Test Loss: 0.0438\n",
      "Epoch [13/200], Train Loss(mean): 0.0342, Test Loss: 0.0438\n",
      "Epoch [14/200], Train Loss(mean): 0.0346, Test Loss: 0.0439\n",
      "Epoch [15/200], Train Loss(mean): 0.0338, Test Loss: 0.0454\n",
      "Epoch [16/200], Train Loss(mean): 0.0342, Test Loss: 0.0440\n",
      "Epoch [17/200], Train Loss(mean): 0.0338, Test Loss: 0.0442\n",
      "Epoch [18/200], Train Loss(mean): 0.0339, Test Loss: 0.0447\n",
      "Epoch [19/200], Train Loss(mean): 0.0343, Test Loss: 0.0432\n",
      "Epoch [20/200], Train Loss(mean): 0.0340, Test Loss: 0.0449\n",
      "Epoch [21/200], Train Loss(mean): 0.0345, Test Loss: 0.0448\n",
      "Epoch [22/200], Train Loss(mean): 0.0344, Test Loss: 0.0452\n",
      "Epoch [23/200], Train Loss(mean): 0.0341, Test Loss: 0.0443\n",
      "Epoch [24/200], Train Loss(mean): 0.0343, Test Loss: 0.0446\n",
      "Epoch [25/200], Train Loss(mean): 0.0338, Test Loss: 0.0444\n",
      "Epoch [26/200], Train Loss(mean): 0.0345, Test Loss: 0.0439\n",
      "Epoch [27/200], Train Loss(mean): 0.0339, Test Loss: 0.0452\n",
      "Epoch [28/200], Train Loss(mean): 0.0336, Test Loss: 0.0445\n",
      "Epoch [29/200], Train Loss(mean): 0.0342, Test Loss: 0.0448\n",
      "Epoch [30/200], Train Loss(mean): 0.0343, Test Loss: 0.0441\n",
      "Epoch [31/200], Train Loss(mean): 0.0341, Test Loss: 0.0454\n",
      "Epoch [32/200], Train Loss(mean): 0.0339, Test Loss: 0.0446\n",
      "Epoch [33/200], Train Loss(mean): 0.0336, Test Loss: 0.0438\n",
      "Epoch [34/200], Train Loss(mean): 0.0344, Test Loss: 0.0442\n",
      "Epoch [35/200], Train Loss(mean): 0.0344, Test Loss: 0.0440\n",
      "Epoch [36/200], Train Loss(mean): 0.0343, Test Loss: 0.0443\n",
      "Epoch [37/200], Train Loss(mean): 0.0340, Test Loss: 0.0437\n",
      "Epoch [38/200], Train Loss(mean): 0.0338, Test Loss: 0.0446\n",
      "Epoch [39/200], Train Loss(mean): 0.0342, Test Loss: 0.0447\n",
      "Epoch [40/200], Train Loss(mean): 0.0339, Test Loss: 0.0439\n",
      "Epoch [41/200], Train Loss(mean): 0.0342, Test Loss: 0.0440\n",
      "Epoch [42/200], Train Loss(mean): 0.0338, Test Loss: 0.0440\n",
      "Epoch [43/200], Train Loss(mean): 0.0343, Test Loss: 0.0442\n",
      "Finished\n",
      "Wall time: 1min 5s\n"
     ]
    }
   ],
   "source": [
    "%%time\n",
    "# Train the model\n",
    "total_step = len(train_loader)\n",
    "train_losses = []\n",
    "test_losses = []\n",
    "eps = 3e-4\n",
    "eps_counter = 0\n",
    "EPS_BORDER = 3\n",
    "for epoch in range(num_epochs):\n",
    "    train_loss = []\n",
    "    for i, (images, labels) in enumerate(train_loader):\n",
    "        images.size()\n",
    "        # Run the forward pass\n",
    "        images = images.float().to(device)\n",
    "        labels = labels.to(device)\n",
    "        outputs = model(images.unsqueeze(1))\n",
    "        loss = criterion(outputs, labels)\n",
    "        train_loss.append(loss.item())\n",
    "\n",
    "        # Backprop and perform Adam optimisation\n",
    "        optimizer.zero_grad()\n",
    "        loss.backward()\n",
    "        optimizer.step()\n",
    "        scheduler.step()\n",
    "        \n",
    "    with torch.no_grad():\n",
    "        images = test.tensors[0].float().to(device)\n",
    "        labels = test.tensors[1].to(device)\n",
    "        output = model(images.unsqueeze(1))  \n",
    "        loss = criterion(output, labels)\n",
    "        test_losses.append(loss.cpu().detach().numpy())\n",
    "            \n",
    "    train_losses.append(np.mean(train_loss)) \n",
    "    print('Epoch [{}/{}], Train Loss(mean): {:.4f}, Test Loss: {:.4f}'\n",
    "                  .format(epoch + 1, num_epochs, np.mean(train_loss),\n",
    "                          test_losses[epoch]))\n",
    "    #early stopper\n",
    "    if len(test_losses) >= 2 and np.abs(test_losses[-1] - test_losses[-2]) < eps:\n",
    "        eps_counter = eps_counter + 1\n",
    "    else:\n",
    "        eps_counter = 0\n",
    "    if eps_counter >= EPS_BORDER:\n",
    "        break\n",
    "print('Finished')"
   ]
  },
  {
   "cell_type": "code",
   "execution_count": 59,
   "metadata": {},
   "outputs": [
    {
     "data": {
      "image/png": "[encoded data removed]",
      "text/plain": [
       "<Figure size 432x288 with 1 Axes>"
      ]
     },
     "metadata": {
      "needs_background": "light"
     },
     "output_type": "display_data"
    }
   ],
   "source": [
    "plt.plot(train_losses)\n",
    "plt.plot(test_losses)\n",
    "plt.show()"
   ]
  },
  {
   "cell_type": "markdown",
   "metadata": {},
   "source": [
    "### Отложенная выборка"
   ]
  },
  {
   "cell_type": "code",
   "execution_count": 60,
   "metadata": {},
   "outputs": [
    {
     "name": "stdout",
     "output_type": "stream",
     "text": [
      "Final validation Loss 0.041859667748212814\n"
     ]
    }
   ],
   "source": [
    "model.eval()\n",
    "with torch.no_grad():\n",
    "    images = valid.tensors[0].float().to(device)\n",
    "    labels = valid.tensors[1].to(device)\n",
    "    output = model(images.unsqueeze(1))  \n",
    "    loss = criterion(output, labels)\n",
    "    print('Final validation Loss {}'.format(loss))"
   ]
  },
  {
   "cell_type": "code",
   "execution_count": 61,
   "metadata": {},
   "outputs": [],
   "source": [
    "valid_acc = torch.sum(torch.argmax(nn.functional.softmax(output, dim=1), dim=1) == labels) / valid.tensors[0].size()[0]"
   ]
  },
  {
   "cell_type": "code",
   "execution_count": 62,
   "metadata": {},
   "outputs": [
    {
     "name": "stdout",
     "output_type": "stream",
     "text": [
      "Final validation Accuracy 98.7699966430664 %\n"
     ]
    }
   ],
   "source": [
    "print('Final validation Accuracy {} %'.format(valid_acc*100))"
   ]
  },
  {
   "cell_type": "markdown",
   "metadata": {},
   "source": [
    "### Сохранение модели"
   ]
  },
  {
   "cell_type": "code",
   "execution_count": 63,
   "metadata": {},
   "outputs": [],
   "source": [
    "torch.save(model, 'mnist-cnn-model.pth')"
   ]
  },
  {
   "cell_type": "code",
   "execution_count": 64,
   "metadata": {},
   "outputs": [
    {
     "data": {
      "text/plain": [
       "ConvNet(\n",
       "  (layer1): Sequential(\n",
       "    (0): Conv2d(1, 32, kernel_size=(5, 5), stride=(1, 1), padding=(2, 2))\n",
       "    (1): ReLU()\n",
       "    (2): MaxPool2d(kernel_size=2, stride=2, padding=0, dilation=1, ceil_mode=False)\n",
       "  )\n",
       "  (layer2): Sequential(\n",
       "    (0): Conv2d(32, 64, kernel_size=(5, 5), stride=(1, 1), padding=(2, 2))\n",
       "    (1): ReLU()\n",
       "    (2): MaxPool2d(kernel_size=2, stride=2, padding=0, dilation=1, ceil_mode=False)\n",
       "  )\n",
       "  (bn1): BatchNorm1d(3136, eps=1e-05, momentum=0.1, affine=True, track_running_stats=True)\n",
       "  (fc1): Linear(in_features=3136, out_features=1000, bias=True)\n",
       "  (relu1): ReLU()\n",
       "  (drop_out2): Dropout(p=0.1, inplace=False)\n",
       "  (bn2): BatchNorm1d(1000, eps=1e-05, momentum=0.1, affine=True, track_running_stats=True)\n",
       "  (fc2): Linear(in_features=1000, out_features=500, bias=True)\n",
       "  (relu2): ReLU()\n",
       "  (drop_out3): Dropout(p=0.2, inplace=False)\n",
       "  (bn3): BatchNorm1d(500, eps=1e-05, momentum=0.1, affine=True, track_running_stats=True)\n",
       "  (fc3): Linear(in_features=500, out_features=10, bias=True)\n",
       ")"
      ]
     },
     "execution_count": 64,
     "metadata": {},
     "output_type": "execute_result"
    }
   ],
   "source": [
    "model"
   ]
  }
 ],
 "metadata": {
  "kernelspec": {
   "display_name": "env",
   "language": "python",
   "name": "env"
  },
  "language_info": {
   "codemirror_mode": {
    "name": "ipython",
    "version": 3
   },
   "file_extension": ".py",
   "mimetype": "text/x-python",
   "name": "python",
   "nbconvert_exporter": "python",
   "pygments_lexer": "ipython3",
   "version": "3.8.5"
  }
 },
 "nbformat": 4,
 "nbformat_minor": 4
}
