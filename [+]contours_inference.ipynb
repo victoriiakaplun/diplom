{
 "cells": [
  {
   "cell_type": "code",
   "execution_count": 5,
   "metadata": {},
   "outputs": [],
   "source": [
    "import torch\n",
    "import torch.nn as nn"
   ]
  },
  {
   "cell_type": "code",
   "execution_count": 6,
   "metadata": {},
   "outputs": [],
   "source": [
    "class ConvNet(nn.Module):\n",
    "    def __init__(self):\n",
    "\n",
    "        super(ConvNet, self).__init__()\n",
    "        self.layer1 = nn.Sequential(\n",
    "             nn.Conv2d(1, 32, kernel_size=5, stride=1, padding=2),\n",
    "             nn.ReLU(),\n",
    "             nn.MaxPool2d(kernel_size=2, stride=2))\n",
    "        self.layer2 = nn.Sequential(\n",
    "             nn.Conv2d(32, 64, kernel_size=5, stride=1, padding=2),\n",
    "             nn.ReLU(),\n",
    "             nn.MaxPool2d(kernel_size=2, stride=2))\n",
    "        self.drop_out1 = nn.Dropout(0.4)\n",
    "        self.bn1 = nn.BatchNorm1d(7 * 7 * 64)\n",
    "        self.fc1 = nn.Linear(7 * 7 * 64, 1000)\n",
    "        self.drop_out2 = nn.Dropout(0.4)\n",
    "        self.bn2 = nn.BatchNorm1d(1000)\n",
    "        self.fc2 = nn.Linear(1000, 500)\n",
    "        self.drop_out3 = nn.Dropout(0.4)\n",
    "        self.bn3 = nn.BatchNorm1d(500)\n",
    "        self.fc3 = nn.Linear(500, 10)\n",
    "      \n",
    "    def forward(self, x):\n",
    "        out = self.layer1(x)\n",
    "        out = self.layer2(out)\n",
    "        out = out.reshape(out.size(0), -1)\n",
    "        out = self.drop_out1(out)\n",
    "        out = self.bn1(out)\n",
    "        out = self.fc1(out)\n",
    "        out = self.drop_out2(out)\n",
    "        out = self.bn2(out)\n",
    "        out = self.fc2(out)\n",
    "        out = self.drop_out3(out)\n",
    "        out = self.bn3(out)\n",
    "        out = self.fc3(out)\n",
    "        return out"
   ]
  },
  {
   "cell_type": "code",
   "execution_count": 8,
   "metadata": {},
   "outputs": [
    {
     "data": {
      "text/plain": [
       "ConvNet(\n",
       "  (layer1): Sequential(\n",
       "    (0): Conv2d(1, 32, kernel_size=(5, 5), stride=(1, 1), padding=(2, 2))\n",
       "    (1): ReLU()\n",
       "    (2): MaxPool2d(kernel_size=2, stride=2, padding=0, dilation=1, ceil_mode=False)\n",
       "  )\n",
       "  (layer2): Sequential(\n",
       "    (0): Conv2d(32, 64, kernel_size=(5, 5), stride=(1, 1), padding=(2, 2))\n",
       "    (1): ReLU()\n",
       "    (2): MaxPool2d(kernel_size=2, stride=2, padding=0, dilation=1, ceil_mode=False)\n",
       "  )\n",
       "  (drop_out1): Dropout(p=0.4, inplace=False)\n",
       "  (bn1): BatchNorm1d(3136, eps=1e-05, momentum=0.1, affine=True, track_running_stats=True)\n",
       "  (fc1): Linear(in_features=3136, out_features=1000, bias=True)\n",
       "  (drop_out2): Dropout(p=0.4, inplace=False)\n",
       "  (bn2): BatchNorm1d(1000, eps=1e-05, momentum=0.1, affine=True, track_running_stats=True)\n",
       "  (fc2): Linear(in_features=1000, out_features=500, bias=True)\n",
       "  (drop_out3): Dropout(p=0.4, inplace=False)\n",
       "  (bn3): BatchNorm1d(500, eps=1e-05, momentum=0.1, affine=True, track_running_stats=True)\n",
       "  (fc3): Linear(in_features=500, out_features=10, bias=True)\n",
       ")"
      ]
     },
     "execution_count": 8,
     "metadata": {},
     "output_type": "execute_result"
    }
   ],
   "source": [
    "model = ConvNet()\n",
    "model.load_state_dict(torch.load('mnist-cnn-model.pt'))\n",
    "model.eval()"
   ]
  },
  {
   "cell_type": "code",
   "execution_count": 15,
   "metadata": {},
   "outputs": [],
   "source": [
    "model = model.to(device)"
   ]
  },
  {
   "cell_type": "code",
   "execution_count": 11,
   "metadata": {},
   "outputs": [],
   "source": [
    "big = torch.load('./data/big_contours.pt')\n",
    "medium = torch.load('./data/medium_contours.pt')\n",
    "small = torch.load('./data/small_contours.pt')"
   ]
  },
  {
   "cell_type": "code",
   "execution_count": 13,
   "metadata": {},
   "outputs": [
    {
     "data": {
      "text/plain": [
       "'cuda'"
      ]
     },
     "execution_count": 13,
     "metadata": {},
     "output_type": "execute_result"
    }
   ],
   "source": [
    "device = \"cuda\" if torch.cuda.is_available() else \"cpu\"\n",
    "device"
   ]
  },
  {
   "cell_type": "code",
   "execution_count": 25,
   "metadata": {},
   "outputs": [],
   "source": [
    "criterion = nn.CrossEntropyLoss()"
   ]
  },
  {
   "cell_type": "code",
   "execution_count": 26,
   "metadata": {},
   "outputs": [
    {
     "name": "stdout",
     "output_type": "stream",
     "text": [
      "Final validation Loss 1.7707910537719727\n"
     ]
    }
   ],
   "source": [
    "with torch.no_grad():\n",
    "    images = big.tensors[0].float().to(device)\n",
    "    labels = big.tensors[1].to(device)\n",
    "    output = model(images.unsqueeze(1))  \n",
    "    loss = criterion(output, labels)\n",
    "    print('Final validation Loss {}'.format(loss))"
   ]
  },
  {
   "cell_type": "code",
   "execution_count": 27,
   "metadata": {},
   "outputs": [],
   "source": [
    "valid_acc = torch.sum(torch.argmax(output, dim=1) == labels) / 10000"
   ]
  },
  {
   "cell_type": "code",
   "execution_count": 28,
   "metadata": {},
   "outputs": [
    {
     "name": "stdout",
     "output_type": "stream",
     "text": [
      "Final validation Accuracy 42.89999771118164 %\n"
     ]
    }
   ],
   "source": [
    "print('Final validation Accuracy {} %'.format(valid_acc*100))"
   ]
  },
  {
   "cell_type": "code",
   "execution_count": 29,
   "metadata": {},
   "outputs": [
    {
     "name": "stdout",
     "output_type": "stream",
     "text": [
      "Final validation Loss 1.697357416152954\n"
     ]
    }
   ],
   "source": [
    "with torch.no_grad():\n",
    "    images = medium.tensors[0].float().to(device)\n",
    "    labels = medium.tensors[1].to(device)\n",
    "    output = model(images.unsqueeze(1))  \n",
    "    loss = criterion(output, labels)\n",
    "    print('Final validation Loss {}'.format(loss))"
   ]
  },
  {
   "cell_type": "code",
   "execution_count": 30,
   "metadata": {},
   "outputs": [
    {
     "name": "stdout",
     "output_type": "stream",
     "text": [
      "Final validation Accuracy 43.41999816894531 %\n"
     ]
    }
   ],
   "source": [
    "valid_acc = torch.sum(torch.argmax(output, dim=1) == labels) / 10000\n",
    "print('Final validation Accuracy {} %'.format(valid_acc*100))"
   ]
  },
  {
   "cell_type": "code",
   "execution_count": 31,
   "metadata": {},
   "outputs": [
    {
     "name": "stdout",
     "output_type": "stream",
     "text": [
      "Final validation Loss 1.1814320087432861\n"
     ]
    }
   ],
   "source": [
    "with torch.no_grad():\n",
    "    images = small.tensors[0].float().to(device)\n",
    "    labels = small.tensors[1].to(device)\n",
    "    output = model(images.unsqueeze(1))  \n",
    "    loss = criterion(output, labels)\n",
    "    print('Final validation Loss {}'.format(loss))"
   ]
  },
  {
   "cell_type": "code",
   "execution_count": 33,
   "metadata": {},
   "outputs": [
    {
     "name": "stdout",
     "output_type": "stream",
     "text": [
      "Final validation Accuracy 56.589996337890625 %\n"
     ]
    }
   ],
   "source": [
    "valid_acc = torch.sum(torch.argmax(output, dim=1) == labels) / 10000\n",
    "print('Final validation Accuracy {} %'.format(valid_acc*100))"
   ]
  },
  {
   "cell_type": "code",
   "execution_count": null,
   "metadata": {},
   "outputs": [],
   "source": []
  }
 ],
 "metadata": {
  "kernelspec": {
   "display_name": "env",
   "language": "python",
   "name": "env"
  },
  "language_info": {
   "codemirror_mode": {
    "name": "ipython",
    "version": 3
   },
   "file_extension": ".py",
   "mimetype": "text/x-python",
   "name": "python",
   "nbconvert_exporter": "python",
   "pygments_lexer": "ipython3",
   "version": "3.8.5"
  }
 },
 "nbformat": 4,
 "nbformat_minor": 4
}
